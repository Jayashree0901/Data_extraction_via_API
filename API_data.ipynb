{
 "cells": [
  {
   "cell_type": "code",
   "execution_count": 1,
   "metadata": {},
   "outputs": [],
   "source": [
    "import json\n",
    "import requests\n",
    "import pandas as pd \n",
    "from snowflake.connector import connect \n",
    "from snowflake.connector.pandas_tools import write_pandas  \n",
    "from dotenv import load_dotenv \n",
    "import os"
   ]
  },
  {
   "cell_type": "markdown",
   "metadata": {},
   "source": [
    "# Data Extraction"
   ]
  },
  {
   "cell_type": "code",
   "execution_count": 2,
   "metadata": {},
   "outputs": [],
   "source": [
    "url = 'https://newsapi.org/v2/everything?'  # url of the api"
   ]
  },
  {
   "cell_type": "code",
   "execution_count": 3,
   "metadata": {},
   "outputs": [],
   "source": [
    "# def data_extract(file):\n",
    "#     try: \n",
    "#         data = requests.get(url, params = json.loads(open(file, 'r').read())).json()\n",
    "#         return data\n",
    "#     except PathError:\n",
    "#         print('Check your input path')"
   ]
  },
  {
   "cell_type": "code",
   "execution_count": 4,
   "metadata": {},
   "outputs": [],
   "source": [
    "def data_extract(file):\n",
    "    try:\n",
    "        try:\n",
    "            file_open = open(file, 'r').read()   # file here is basically the path of your file containing the payload\n",
    "            file_open = json.loads(file_open)\n",
    "            print('File loaded successfully!')\n",
    "        except:\n",
    "            print('Error in your configuration file')\n",
    "        \n",
    "        file_open['apiKey'] = os.getenv('apiKey')\n",
    "        \n",
    "        data = requests.get(url, params = file_open).json()\n",
    "        print('Data extracted successfully!')\n",
    "        return data\n",
    "    except:\n",
    "        print('check your configuration path')"
   ]
  },
  {
   "cell_type": "code",
   "execution_count": 5,
   "metadata": {},
   "outputs": [
    {
     "name": "stdout",
     "output_type": "stream",
     "text": [
      "File loaded successfully!\n",
      "Data extracted successfully!\n"
     ]
    }
   ],
   "source": [
    "extracted_data = data_extract(r'C:\\Users\\JayashreeArunan\\Desktop\\Python\\Data_extraction\\configuration\\api_config.json')"
   ]
  },
  {
   "cell_type": "code",
   "execution_count": 6,
   "metadata": {},
   "outputs": [
    {
     "data": {
      "text/html": [
       "<div>\n",
       "<style scoped>\n",
       "    .dataframe tbody tr th:only-of-type {\n",
       "        vertical-align: middle;\n",
       "    }\n",
       "\n",
       "    .dataframe tbody tr th {\n",
       "        vertical-align: top;\n",
       "    }\n",
       "\n",
       "    .dataframe thead th {\n",
       "        text-align: right;\n",
       "    }\n",
       "</style>\n",
       "<table border=\"1\" class=\"dataframe\">\n",
       "  <thead>\n",
       "    <tr style=\"text-align: right;\">\n",
       "      <th></th>\n",
       "      <th>source</th>\n",
       "      <th>author</th>\n",
       "      <th>title</th>\n",
       "      <th>description</th>\n",
       "      <th>url</th>\n",
       "      <th>urlToImage</th>\n",
       "      <th>publishedAt</th>\n",
       "      <th>content</th>\n",
       "    </tr>\n",
       "  </thead>\n",
       "  <tbody>\n",
       "    <tr>\n",
       "      <th>0</th>\n",
       "      <td>{'id': None, 'name': 'Yahoo Entertainment'}</td>\n",
       "      <td>Cristina Alexander</td>\n",
       "      <td>Overwatch 2 shows off Transformers skins in an...</td>\n",
       "      <td>Blizzard and Hasbro have revealed the Transfor...</td>\n",
       "      <td>https://consent.yahoo.com/v2/collectConsent?se...</td>\n",
       "      <td>None</td>\n",
       "      <td>2024-07-08T22:23:59Z</td>\n",
       "      <td>If you click 'Accept all', we and our partners...</td>\n",
       "    </tr>\n",
       "    <tr>\n",
       "      <th>1</th>\n",
       "      <td>{'id': None, 'name': 'Yahoo Entertainment'}</td>\n",
       "      <td>Will Shanklin</td>\n",
       "      <td>The makers of Palworld have formed a new compa...</td>\n",
       "      <td>The maker of Xbox Game Pass stalwart Palworld ...</td>\n",
       "      <td>https://consent.yahoo.com/v2/collectConsent?se...</td>\n",
       "      <td>None</td>\n",
       "      <td>2024-07-10T18:48:24Z</td>\n",
       "      <td>If you click 'Accept all', we and our partners...</td>\n",
       "    </tr>\n",
       "    <tr>\n",
       "      <th>2</th>\n",
       "      <td>{'id': None, 'name': 'Yahoo Entertainment'}</td>\n",
       "      <td>Cheyenne MacDonald</td>\n",
       "      <td>What to read this weekend: Keanu Reeves wrote ...</td>\n",
       "      <td>New releases in fiction, nonfiction and comics...</td>\n",
       "      <td>https://consent.yahoo.com/v2/collectConsent?se...</td>\n",
       "      <td>None</td>\n",
       "      <td>2024-07-27T17:39:09Z</td>\n",
       "      <td>If you click 'Accept all', we and our partners...</td>\n",
       "    </tr>\n",
       "    <tr>\n",
       "      <th>3</th>\n",
       "      <td>{'id': None, 'name': 'Gizmodo.com'}</td>\n",
       "      <td>Gordon Jackson</td>\n",
       "      <td>Terminator: Zero Debuts its First Trailer Just...</td>\n",
       "      <td>Netflix has released a trailer for its new Ter...</td>\n",
       "      <td>https://gizmodo.com/terminator-zero-anime-trai...</td>\n",
       "      <td>https://gizmodo.com/app/uploads/2024/07/unname...</td>\n",
       "      <td>2024-07-15T14:15:01Z</td>\n",
       "      <td>Netflix has released a trailer for its new Ter...</td>\n",
       "    </tr>\n",
       "    <tr>\n",
       "      <th>4</th>\n",
       "      <td>{'id': None, 'name': 'Gizmodo.com'}</td>\n",
       "      <td>Cheryl Eddy</td>\n",
       "      <td>First Trailer for Rick and Morty: The Anime Re...</td>\n",
       "      <td>Adult Swim's new 10-episode anime series based...</td>\n",
       "      <td>https://gizmodo.com/first-trailer-for-rick-and...</td>\n",
       "      <td>https://gizmodo.com/app/uploads/2024/07/Screen...</td>\n",
       "      <td>2024-07-11T18:45:32Z</td>\n",
       "      <td>Rick and Morty fans are used to seeing the sho...</td>\n",
       "    </tr>\n",
       "  </tbody>\n",
       "</table>\n",
       "</div>"
      ],
      "text/plain": [
       "                                        source              author  \\\n",
       "0  {'id': None, 'name': 'Yahoo Entertainment'}  Cristina Alexander   \n",
       "1  {'id': None, 'name': 'Yahoo Entertainment'}       Will Shanklin   \n",
       "2  {'id': None, 'name': 'Yahoo Entertainment'}  Cheyenne MacDonald   \n",
       "3          {'id': None, 'name': 'Gizmodo.com'}      Gordon Jackson   \n",
       "4          {'id': None, 'name': 'Gizmodo.com'}         Cheryl Eddy   \n",
       "\n",
       "                                               title  \\\n",
       "0  Overwatch 2 shows off Transformers skins in an...   \n",
       "1  The makers of Palworld have formed a new compa...   \n",
       "2  What to read this weekend: Keanu Reeves wrote ...   \n",
       "3  Terminator: Zero Debuts its First Trailer Just...   \n",
       "4  First Trailer for Rick and Morty: The Anime Re...   \n",
       "\n",
       "                                         description  \\\n",
       "0  Blizzard and Hasbro have revealed the Transfor...   \n",
       "1  The maker of Xbox Game Pass stalwart Palworld ...   \n",
       "2  New releases in fiction, nonfiction and comics...   \n",
       "3  Netflix has released a trailer for its new Ter...   \n",
       "4  Adult Swim's new 10-episode anime series based...   \n",
       "\n",
       "                                                 url  \\\n",
       "0  https://consent.yahoo.com/v2/collectConsent?se...   \n",
       "1  https://consent.yahoo.com/v2/collectConsent?se...   \n",
       "2  https://consent.yahoo.com/v2/collectConsent?se...   \n",
       "3  https://gizmodo.com/terminator-zero-anime-trai...   \n",
       "4  https://gizmodo.com/first-trailer-for-rick-and...   \n",
       "\n",
       "                                          urlToImage           publishedAt  \\\n",
       "0                                               None  2024-07-08T22:23:59Z   \n",
       "1                                               None  2024-07-10T18:48:24Z   \n",
       "2                                               None  2024-07-27T17:39:09Z   \n",
       "3  https://gizmodo.com/app/uploads/2024/07/unname...  2024-07-15T14:15:01Z   \n",
       "4  https://gizmodo.com/app/uploads/2024/07/Screen...  2024-07-11T18:45:32Z   \n",
       "\n",
       "                                             content  \n",
       "0  If you click 'Accept all', we and our partners...  \n",
       "1  If you click 'Accept all', we and our partners...  \n",
       "2  If you click 'Accept all', we and our partners...  \n",
       "3  Netflix has released a trailer for its new Ter...  \n",
       "4  Rick and Morty fans are used to seeing the sho...  "
      ]
     },
     "execution_count": 6,
     "metadata": {},
     "output_type": "execute_result"
    }
   ],
   "source": [
    "df = pd.DataFrame(extracted_data['articles'])\n",
    "df.head(5)"
   ]
  },
  {
   "cell_type": "code",
   "execution_count": 7,
   "metadata": {},
   "outputs": [],
   "source": [
    "df.insert(0, 'source_id', pd.json_normalize(df['source']).get('id'))\n",
    "df.insert(1, 'source_name', pd.json_normalize(df['source']).get('name'))"
   ]
  },
  {
   "cell_type": "code",
   "execution_count": 8,
   "metadata": {},
   "outputs": [],
   "source": [
    "df = df.drop('source', axis=1)"
   ]
  },
  {
   "cell_type": "code",
   "execution_count": 9,
   "metadata": {},
   "outputs": [
    {
     "data": {
      "text/html": [
       "<div>\n",
       "<style scoped>\n",
       "    .dataframe tbody tr th:only-of-type {\n",
       "        vertical-align: middle;\n",
       "    }\n",
       "\n",
       "    .dataframe tbody tr th {\n",
       "        vertical-align: top;\n",
       "    }\n",
       "\n",
       "    .dataframe thead th {\n",
       "        text-align: right;\n",
       "    }\n",
       "</style>\n",
       "<table border=\"1\" class=\"dataframe\">\n",
       "  <thead>\n",
       "    <tr style=\"text-align: right;\">\n",
       "      <th></th>\n",
       "      <th>source_id</th>\n",
       "      <th>source_name</th>\n",
       "      <th>author</th>\n",
       "      <th>title</th>\n",
       "      <th>description</th>\n",
       "      <th>url</th>\n",
       "      <th>urlToImage</th>\n",
       "      <th>publishedAt</th>\n",
       "      <th>content</th>\n",
       "    </tr>\n",
       "  </thead>\n",
       "  <tbody>\n",
       "    <tr>\n",
       "      <th>0</th>\n",
       "      <td>None</td>\n",
       "      <td>Yahoo Entertainment</td>\n",
       "      <td>Cristina Alexander</td>\n",
       "      <td>Overwatch 2 shows off Transformers skins in an...</td>\n",
       "      <td>Blizzard and Hasbro have revealed the Transfor...</td>\n",
       "      <td>https://consent.yahoo.com/v2/collectConsent?se...</td>\n",
       "      <td>None</td>\n",
       "      <td>2024-07-08T22:23:59Z</td>\n",
       "      <td>If you click 'Accept all', we and our partners...</td>\n",
       "    </tr>\n",
       "    <tr>\n",
       "      <th>1</th>\n",
       "      <td>None</td>\n",
       "      <td>Yahoo Entertainment</td>\n",
       "      <td>Will Shanklin</td>\n",
       "      <td>The makers of Palworld have formed a new compa...</td>\n",
       "      <td>The maker of Xbox Game Pass stalwart Palworld ...</td>\n",
       "      <td>https://consent.yahoo.com/v2/collectConsent?se...</td>\n",
       "      <td>None</td>\n",
       "      <td>2024-07-10T18:48:24Z</td>\n",
       "      <td>If you click 'Accept all', we and our partners...</td>\n",
       "    </tr>\n",
       "    <tr>\n",
       "      <th>2</th>\n",
       "      <td>None</td>\n",
       "      <td>Yahoo Entertainment</td>\n",
       "      <td>Cheyenne MacDonald</td>\n",
       "      <td>What to read this weekend: Keanu Reeves wrote ...</td>\n",
       "      <td>New releases in fiction, nonfiction and comics...</td>\n",
       "      <td>https://consent.yahoo.com/v2/collectConsent?se...</td>\n",
       "      <td>None</td>\n",
       "      <td>2024-07-27T17:39:09Z</td>\n",
       "      <td>If you click 'Accept all', we and our partners...</td>\n",
       "    </tr>\n",
       "    <tr>\n",
       "      <th>3</th>\n",
       "      <td>None</td>\n",
       "      <td>Gizmodo.com</td>\n",
       "      <td>Gordon Jackson</td>\n",
       "      <td>Terminator: Zero Debuts its First Trailer Just...</td>\n",
       "      <td>Netflix has released a trailer for its new Ter...</td>\n",
       "      <td>https://gizmodo.com/terminator-zero-anime-trai...</td>\n",
       "      <td>https://gizmodo.com/app/uploads/2024/07/unname...</td>\n",
       "      <td>2024-07-15T14:15:01Z</td>\n",
       "      <td>Netflix has released a trailer for its new Ter...</td>\n",
       "    </tr>\n",
       "    <tr>\n",
       "      <th>4</th>\n",
       "      <td>None</td>\n",
       "      <td>Gizmodo.com</td>\n",
       "      <td>Cheryl Eddy</td>\n",
       "      <td>First Trailer for Rick and Morty: The Anime Re...</td>\n",
       "      <td>Adult Swim's new 10-episode anime series based...</td>\n",
       "      <td>https://gizmodo.com/first-trailer-for-rick-and...</td>\n",
       "      <td>https://gizmodo.com/app/uploads/2024/07/Screen...</td>\n",
       "      <td>2024-07-11T18:45:32Z</td>\n",
       "      <td>Rick and Morty fans are used to seeing the sho...</td>\n",
       "    </tr>\n",
       "  </tbody>\n",
       "</table>\n",
       "</div>"
      ],
      "text/plain": [
       "  source_id          source_name              author  \\\n",
       "0      None  Yahoo Entertainment  Cristina Alexander   \n",
       "1      None  Yahoo Entertainment       Will Shanklin   \n",
       "2      None  Yahoo Entertainment  Cheyenne MacDonald   \n",
       "3      None          Gizmodo.com      Gordon Jackson   \n",
       "4      None          Gizmodo.com         Cheryl Eddy   \n",
       "\n",
       "                                               title  \\\n",
       "0  Overwatch 2 shows off Transformers skins in an...   \n",
       "1  The makers of Palworld have formed a new compa...   \n",
       "2  What to read this weekend: Keanu Reeves wrote ...   \n",
       "3  Terminator: Zero Debuts its First Trailer Just...   \n",
       "4  First Trailer for Rick and Morty: The Anime Re...   \n",
       "\n",
       "                                         description  \\\n",
       "0  Blizzard and Hasbro have revealed the Transfor...   \n",
       "1  The maker of Xbox Game Pass stalwart Palworld ...   \n",
       "2  New releases in fiction, nonfiction and comics...   \n",
       "3  Netflix has released a trailer for its new Ter...   \n",
       "4  Adult Swim's new 10-episode anime series based...   \n",
       "\n",
       "                                                 url  \\\n",
       "0  https://consent.yahoo.com/v2/collectConsent?se...   \n",
       "1  https://consent.yahoo.com/v2/collectConsent?se...   \n",
       "2  https://consent.yahoo.com/v2/collectConsent?se...   \n",
       "3  https://gizmodo.com/terminator-zero-anime-trai...   \n",
       "4  https://gizmodo.com/first-trailer-for-rick-and...   \n",
       "\n",
       "                                          urlToImage           publishedAt  \\\n",
       "0                                               None  2024-07-08T22:23:59Z   \n",
       "1                                               None  2024-07-10T18:48:24Z   \n",
       "2                                               None  2024-07-27T17:39:09Z   \n",
       "3  https://gizmodo.com/app/uploads/2024/07/unname...  2024-07-15T14:15:01Z   \n",
       "4  https://gizmodo.com/app/uploads/2024/07/Screen...  2024-07-11T18:45:32Z   \n",
       "\n",
       "                                             content  \n",
       "0  If you click 'Accept all', we and our partners...  \n",
       "1  If you click 'Accept all', we and our partners...  \n",
       "2  If you click 'Accept all', we and our partners...  \n",
       "3  Netflix has released a trailer for its new Ter...  \n",
       "4  Rick and Morty fans are used to seeing the sho...  "
      ]
     },
     "execution_count": 9,
     "metadata": {},
     "output_type": "execute_result"
    }
   ],
   "source": [
    "df.head(5)"
   ]
  },
  {
   "cell_type": "code",
   "execution_count": 10,
   "metadata": {},
   "outputs": [],
   "source": [
    "df.to_csv('Data.csv')"
   ]
  },
  {
   "cell_type": "markdown",
   "metadata": {},
   "source": [
    "# Snowflake Connection"
   ]
  },
  {
   "cell_type": "markdown",
   "metadata": {},
   "source": [
    "### Using json file method and environment variable method"
   ]
  },
  {
   "cell_type": "code",
   "execution_count": 11,
   "metadata": {},
   "outputs": [],
   "source": [
    "def snowflake_credentials(sf_config):\n",
    "    try:\n",
    "        sf_file_open = open(sf_config, 'r').read()\n",
    "        sf_file_open = json.loads(sf_file_open)\n",
    "    except:\n",
    "        print('Error in file path')\n",
    "\n",
    "    sf_connect = connect(\n",
    "        # user = sf_file_open['user'],\n",
    "        # password = sf_file_open['password'],\n",
    "        \n",
    "        user = os.environ.get('sf_user'),\n",
    "        password = os.environ.get('sf_password'),\n",
    "        account = sf_file_open['account'],\n",
    "        role = sf_file_open['role'],\n",
    "        warehouse = sf_file_open['warehouse'],\n",
    "        database = sf_file_open['database'],\n",
    "        schema = sf_file_open['schema']\n",
    "    )\n",
    "    \n",
    "    # sf_connect = connect(\n",
    "    #     user = sf_file_open.get('user'),\n",
    "    #     password = sf_file_open.get('password'),\n",
    "    #     account = sf_file_open.get('account'),\n",
    "    #     role = sf_file_open.get('role'),\n",
    "    #     warehouse = sf_file_open.get('warehouse'),\n",
    "    #     database = sf_file_open.get('database'),\n",
    "    #     schema = sf_file_open.get('schema')\n",
    "    # )\n",
    "    return sf_connect"
   ]
  },
  {
   "cell_type": "code",
   "execution_count": 12,
   "metadata": {},
   "outputs": [],
   "source": [
    "# using all the credentials from a json file\n",
    "# write_pandas(snowflake_credentials(r'C:\\Users\\JayashreeArunan\\Desktop\\Python\\Data_extraction\\configuration\\sf_config.json'), df, 'NEW_TABLE', auto_create_table=True, overwrite=True)"
   ]
  },
  {
   "cell_type": "code",
   "execution_count": 13,
   "metadata": {},
   "outputs": [],
   "source": [
    "# using the username and password stored in the system environment varibles and rest of the credentials from the json file\n",
    "# write_pandas(snowflake_credentials(r'C:\\Users\\JayashreeArunan\\Desktop\\Python\\Data_extraction\\configuration\\sf_config.json'), df, 'NEW_TABLE1', auto_create_table=True, overwrite=True)"
   ]
  },
  {
   "cell_type": "markdown",
   "metadata": {},
   "source": [
    "### Using .env method"
   ]
  },
  {
   "cell_type": "code",
   "execution_count": 14,
   "metadata": {},
   "outputs": [
    {
     "data": {
      "text/plain": [
       "True"
      ]
     },
     "execution_count": 14,
     "metadata": {},
     "output_type": "execute_result"
    }
   ],
   "source": [
    "load_dotenv()"
   ]
  },
  {
   "cell_type": "code",
   "execution_count": 15,
   "metadata": {},
   "outputs": [],
   "source": [
    "def snowflake_credentials():\n",
    "    try:\n",
    "        sf_connect = connect(\n",
    "            user = os.getenv('user'),\n",
    "            password = os.getenv('password'),\n",
    "            account = os.getenv('account'),\n",
    "            role = os.getenv('role'),\n",
    "            warehouse = os.getenv('warehouse'),\n",
    "            database = os.getenv('database'),\n",
    "            schema = os.getenv('schema')\n",
    "        )\n",
    "        print('Connection successful')\n",
    "    except:\n",
    "        print('Error in credentials')\n",
    "    return sf_connect"
   ]
  },
  {
   "cell_type": "code",
   "execution_count": 16,
   "metadata": {},
   "outputs": [
    {
     "name": "stdout",
     "output_type": "stream",
     "text": [
      "Connection successful\n"
     ]
    },
    {
     "data": {
      "text/plain": [
       "(True,\n",
       " 1,\n",
       " 100,\n",
       " [('jwaypiiijk/file0.txt', 'LOADED', 100, 100, 1, 0, None, None, None, None)])"
      ]
     },
     "execution_count": 16,
     "metadata": {},
     "output_type": "execute_result"
    }
   ],
   "source": [
    "write_pandas(snowflake_credentials(), df, 'NEW_TRY', auto_create_table=True, overwrite=True)"
   ]
  }
 ],
 "metadata": {
  "kernelspec": {
   "display_name": "Python 3",
   "language": "python",
   "name": "python3"
  },
  "language_info": {
   "codemirror_mode": {
    "name": "ipython",
    "version": 3
   },
   "file_extension": ".py",
   "mimetype": "text/x-python",
   "name": "python",
   "nbconvert_exporter": "python",
   "pygments_lexer": "ipython3",
   "version": "3.12.3"
  }
 },
 "nbformat": 4,
 "nbformat_minor": 2
}
