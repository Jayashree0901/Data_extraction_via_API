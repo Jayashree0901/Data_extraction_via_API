{
 "cells": [
  {
   "cell_type": "code",
   "execution_count": 1,
   "metadata": {},
   "outputs": [],
   "source": [
    "import json\n",
    "import requests # type: ignore\n",
    "import pandas as pd # type: ignore\n",
    "from snowflake.connector import connect # type: ignore\n",
    "from snowflake.connector.pandas_tools import write_pandas  # type: ignore\n",
    "from dotenv import load_dotenv # type: ignore\n",
    "import os"
   ]
  },
  {
   "cell_type": "markdown",
   "metadata": {},
   "source": [
    "# Data Extraction"
   ]
  },
  {
   "cell_type": "code",
   "execution_count": null,
   "metadata": {},
   "outputs": [],
   "source": [
    "url = 'https://newsapi.org/v2/everything?'  # url of the api"
   ]
  },
  {
   "cell_type": "code",
   "execution_count": null,
   "metadata": {},
   "outputs": [],
   "source": [
    "# def data_extract(file):\n",
    "#     try: \n",
    "#         data = requests.get(url, params = json.loads(open(file, 'r').read())).json()\n",
    "#         return data\n",
    "#     except PathError:\n",
    "#         print('Check your input path')"
   ]
  },
  {
   "cell_type": "code",
   "execution_count": null,
   "metadata": {},
   "outputs": [],
   "source": [
    "def data_extract(file):\n",
    "    try:\n",
    "        try:\n",
    "            file_open = open(file, 'r').read()   # file here is basically the path of your file containing the configurations of the url\n",
    "            file_open = json.loads(file_open)\n",
    "            print('File loaded successfully!')\n",
    "        except:\n",
    "            print('Error in your configuration file')\n",
    "        \n",
    "        file_open['apiKey'] = os.getenv('apiKey')\n",
    "        print(file_open)\n",
    "        \n",
    "        data = requests.get(url, params = file_open).json()\n",
    "        print('Data extracted successfully!')\n",
    "        return data\n",
    "    except:\n",
    "        print('check your configuration path')"
   ]
  },
  {
   "cell_type": "code",
   "execution_count": null,
   "metadata": {},
   "outputs": [],
   "source": [
    "extracted_data = data_extract(r'C:\\Users\\JayashreeArunan\\Desktop\\Python\\Data_extraction\\configuration\\api_config.json')"
   ]
  },
  {
   "cell_type": "code",
   "execution_count": null,
   "metadata": {},
   "outputs": [],
   "source": [
    "df = pd.DataFrame(extracted_data['articles'])\n",
    "df.head(5)"
   ]
  },
  {
   "cell_type": "code",
   "execution_count": null,
   "metadata": {},
   "outputs": [],
   "source": [
    "df.insert(0, 'source_id', pd.json_normalize(df['source']).get('id'))\n",
    "df.insert(1, 'source_name', pd.json_normalize(df['source']).get('name'))"
   ]
  },
  {
   "cell_type": "code",
   "execution_count": null,
   "metadata": {},
   "outputs": [],
   "source": [
    "df = df.drop('source', axis=1)"
   ]
  },
  {
   "cell_type": "code",
   "execution_count": null,
   "metadata": {},
   "outputs": [],
   "source": [
    "df.head(5)"
   ]
  },
  {
   "cell_type": "code",
   "execution_count": null,
   "metadata": {},
   "outputs": [],
   "source": [
    "df.to_csv('Data.csv')"
   ]
  },
  {
   "cell_type": "markdown",
   "metadata": {},
   "source": [
    "# Snowflake Connection"
   ]
  },
  {
   "cell_type": "markdown",
   "metadata": {},
   "source": [
    "### Using json file method and environment variable method"
   ]
  },
  {
   "cell_type": "code",
   "execution_count": null,
   "metadata": {},
   "outputs": [],
   "source": [
    "def snowflake_credentials(sf_config):\n",
    "    try:\n",
    "        sf_file_open = open(sf_config, 'r').read()\n",
    "        sf_file_open = json.loads(sf_file_open)\n",
    "    except:\n",
    "        print('Error in file path')\n",
    "\n",
    "    sf_connect = connect(\n",
    "        # user = sf_file_open['user'],\n",
    "        # password = sf_file_open['password'],\n",
    "        \n",
    "        user = os.environ.get('sf_user'),\n",
    "        password = os.environ.get('sf_password'),\n",
    "        account = sf_file_open['account'],\n",
    "        role = sf_file_open['role'],\n",
    "        warehouse = sf_file_open['warehouse'],\n",
    "        database = sf_file_open['database'],\n",
    "        schema = sf_file_open['schema']\n",
    "    )\n",
    "    \n",
    "    # sf_connect = connect(\n",
    "    #     user = sf_file_open.get('user'),\n",
    "    #     password = sf_file_open.get('password'),\n",
    "    #     account = sf_file_open.get('account'),\n",
    "    #     role = sf_file_open.get('role'),\n",
    "    #     warehouse = sf_file_open.get('warehouse'),\n",
    "    #     database = sf_file_open.get('database'),\n",
    "    #     schema = sf_file_open.get('schema')\n",
    "    # )\n",
    "    return sf_connect"
   ]
  },
  {
   "cell_type": "code",
   "execution_count": null,
   "metadata": {},
   "outputs": [],
   "source": [
    "# using all the credentials from a json file\n",
    "# write_pandas(snowflake_credentials(r'C:\\Users\\JayashreeArunan\\Desktop\\Python\\Data_extraction\\configuration\\sf_config.json'), df, 'NEW_TABLE', auto_create_table=True, overwrite=True)"
   ]
  },
  {
   "cell_type": "code",
   "execution_count": null,
   "metadata": {},
   "outputs": [],
   "source": [
    "# using the username and password stored in the system environment varibles and rest of the credentials from the json file\n",
    "# write_pandas(snowflake_credentials(r'C:\\Users\\JayashreeArunan\\Desktop\\Python\\Data_extraction\\configuration\\sf_config.json'), df, 'NEW_TABLE1', auto_create_table=True, overwrite=True)"
   ]
  },
  {
   "cell_type": "markdown",
   "metadata": {},
   "source": [
    "### Using .env method"
   ]
  },
  {
   "cell_type": "code",
   "execution_count": null,
   "metadata": {},
   "outputs": [],
   "source": [
    "load_dotenv()"
   ]
  },
  {
   "cell_type": "code",
   "execution_count": null,
   "metadata": {},
   "outputs": [],
   "source": [
    "def snowflake_credentials():\n",
    "    try:\n",
    "        sf_connect = connect(\n",
    "            user = os.getenv('user'),\n",
    "            password = os.getenv('password'),\n",
    "            account = os.getenv('account'),\n",
    "            role = os.getenv('role'),\n",
    "            warehouse = os.getenv('warehouse'),\n",
    "            database = os.getenv('database'),\n",
    "            schema = os.getenv('schema')\n",
    "        )\n",
    "        print('Connection successful')\n",
    "    except:\n",
    "        print('Error in credentials')\n",
    "    return sf_connect"
   ]
  },
  {
   "cell_type": "code",
   "execution_count": null,
   "metadata": {},
   "outputs": [],
   "source": [
    "write_pandas(snowflake_credentials(), df, 'NEW_TRY', auto_create_table=True, overwrite=True)"
   ]
  }
 ],
 "metadata": {
  "kernelspec": {
   "display_name": "Python 3",
   "language": "python",
   "name": "python3"
  },
  "language_info": {
   "codemirror_mode": {
    "name": "ipython",
    "version": 3
   },
   "file_extension": ".py",
   "mimetype": "text/x-python",
   "name": "python",
   "nbconvert_exporter": "python",
   "pygments_lexer": "ipython3",
   "version": "3.12.3"
  }
 },
 "nbformat": 4,
 "nbformat_minor": 2
}
